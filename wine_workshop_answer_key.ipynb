{
 "cells": [
  {
   "cell_type": "markdown",
   "id": "75d8b694",
   "metadata": {},
   "source": [
    "# 🍷 Wine Classification Workshop — Answer Key"
   ]
  },
  {
   "cell_type": "code",
   "execution_count": null,
   "id": "82ca9917",
   "metadata": {},
   "outputs": [],
   "source": [
    "# Imports\n",
    "import pandas as pd\n",
    "import matplotlib.pyplot as plt\n",
    "from sklearn.datasets import load_wine\n",
    "from sklearn.model_selection import train_test_split\n",
    "from sklearn.metrics import classification_report, confusion_matrix, ConfusionMatrixDisplay\n",
    "from sklearn.tree import DecisionTreeClassifier\n",
    "from sklearn.decomposition import PCA\n",
    "\n",
    "plt.rcParams['figure.figsize'] = (6, 4)\n"
   ]
  },
  {
   "cell_type": "markdown",
   "id": "12cb01aa",
   "metadata": {},
   "source": [
    "## Load the dataset"
   ]
  },
  {
   "cell_type": "code",
   "execution_count": null,
   "id": "fa4d2944",
   "metadata": {},
   "outputs": [],
   "source": [
    "wine = load_wine()\n",
    "df = pd.DataFrame(wine.data, columns=wine.feature_names)\n",
    "df['target'] = wine.target\n",
    "df.head()\n"
   ]
  },
  {
   "cell_type": "markdown",
   "id": "61079e70",
   "metadata": {},
   "source": [
    "## EDA"
   ]
  },
  {
   "cell_type": "code",
   "execution_count": null,
   "id": "1add0620",
   "metadata": {},
   "outputs": [],
   "source": [
    "print(\"Shape:\", df.shape)\n",
    "df.describe()\n"
   ]
  },
  {
   "cell_type": "code",
   "execution_count": null,
   "id": "a56db3f2",
   "metadata": {},
   "outputs": [],
   "source": [
    "df.hist(figsize=(10, 8))\n",
    "plt.tight_layout()\n",
    "plt.show()\n"
   ]
  },
  {
   "cell_type": "markdown",
   "id": "18e144ef",
   "metadata": {},
   "source": [
    "## 🍇 The Three Wine Cultivars (Target Classes)\n",
    "\n",
    "The Wine dataset contains chemical analyses of wines from the same region in Italy, but from **three different grape varieties (cultivars)**.  \n",
    "In scikit‑learn these are labeled `0`, `1`, and `2`.\n",
    "\n",
    "- **Class 0 → Nebbiolo** — bold, high tannin & acidity, ages well; often higher **alcohol** and **malic acid**.\n",
    "- **Class 1 → Barbera** — approachable, fruit‑forward, lighter tannins, higher acidity; often higher **flavanoids** and **color intensity**.\n",
    "- **Class 2 → Grignolino** — light, pale color, lower alcohol & tannins; often higher **proline** and distinct phenol profiles.\n"
   ]
  },
  {
   "cell_type": "markdown",
   "id": "4dcdb9c4",
   "metadata": {},
   "source": [
    "## 🔍 PCA (Principal Component Analysis)\n",
    "\n",
    "We have 13 features. **PCA** finds new axes (*principal components*) that capture the most variance and lets us project the data to **2D** for visualization.\n",
    "\n",
    "**Your task:** reduce the dataset to 2 components and plot them colored by class.\n"
   ]
  },
  {
   "cell_type": "code",
   "execution_count": null,
   "id": "f8eb723a",
   "metadata": {},
   "outputs": [],
   "source": [
    "X = df.drop('target', axis=1)\n",
    "pca = PCA(n_components=2)\n",
    "components = pca.fit_transform(X)\n",
    "\n",
    "plt.scatter(components[:, 0], components[:, 1], c=df['target'])\n",
    "plt.xlabel(\"PC1\")\n",
    "plt.ylabel(\"PC2\")\n",
    "plt.title(\"Wine Data PCA (2D)\")\n",
    "plt.show()\n"
   ]
  },
  {
   "cell_type": "markdown",
   "id": "09ba047e",
   "metadata": {},
   "source": [
    "## 🌳 Decision Tree Classifier & Metrics\n",
    "\n",
    "A **Decision Tree** predicts by asking if/else questions on features and splitting data to increase purity.\n",
    "- Common criteria: **Gini** (default), **Entropy**\n",
    "- Key hyperparameters: `max_depth`, `min_samples_split`, `min_samples_leaf`, `max_features`\n",
    "\n",
    "### Evaluation metrics (per class unless noted)\n",
    "- **Precision = TP / (TP + FP)** — of predicted positives, how many were correct?\n",
    "- **Recall = TP / (TP + FN)** — of true positives, how many did we find?\n",
    "- **F1 = 2·(P·R)/(P+R)** — balance of precision & recall\n",
    "- **Support** — number of true instances of the class\n",
    "- **Accuracy** (overall) — fraction of all predictions that are correct\n"
   ]
  },
  {
   "cell_type": "code",
   "execution_count": null,
   "id": "23fd2e3e",
   "metadata": {},
   "outputs": [],
   "source": [
    "X = df.drop('target', axis=1)\n",
    "y = df['target']\n",
    "\n",
    "X_train, X_test, y_train, y_test = train_test_split(\n",
    "    X, y, test_size=0.3, random_state=42\n",
    ")\n"
   ]
  },
  {
   "cell_type": "code",
   "execution_count": null,
   "id": "90d549c3",
   "metadata": {},
   "outputs": [],
   "source": [
    "dt = DecisionTreeClassifier(max_depth=3, random_state=42)\n",
    "dt.fit(X_train, y_train)\n"
   ]
  },
  {
   "cell_type": "code",
   "execution_count": null,
   "id": "3a0c5176",
   "metadata": {},
   "outputs": [],
   "source": [
    "y_pred = dt.predict(X_test)\n",
    "print(classification_report(y_test, y_pred, target_names=load_wine().target_names))\n"
   ]
  },
  {
   "cell_type": "markdown",
   "id": "3db58e23",
   "metadata": {},
   "source": [
    "## 📊 Confusion Matrix\n",
    "\n",
    "- **Rows**: true classes, **Columns**: predicted classes  \n",
    "- Diagonal = correct predictions; off‑diagonal = misclassifications.  \n",
    "Use this to see **which classes** are confused.\n"
   ]
  },
  {
   "cell_type": "code",
   "execution_count": null,
   "id": "b64ec9ce",
   "metadata": {},
   "outputs": [],
   "source": [
    "cm = confusion_matrix(y_test, y_pred)\n",
    "disp = ConfusionMatrixDisplay(confusion_matrix=cm, display_labels=dt.classes_)\n",
    "disp.plot(cmap='Blues', values_format='d')\n",
    "plt.title(\"Decision Tree - Confusion Matrix\")\n",
    "plt.show()\n"
   ]
  }
 ],
 "metadata": {},
 "nbformat": 4,
 "nbformat_minor": 5
}
