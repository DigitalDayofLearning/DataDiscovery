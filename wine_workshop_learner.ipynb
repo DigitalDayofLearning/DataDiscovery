{
 "cells": [
  {
   "cell_type": "markdown",
   "id": "3be57350",
   "metadata": {},
   "source": [
    "# 🍷 Wine Classification Workshop (Learner Notebook)\n",
    "\n",
    "Welcome! This workshop is **fill‑in‑the‑blank**. Cells marked with **TODO** contain blanks (`___`) for you to complete.\n",
    "\n",
    "### You will:\n",
    "1. Load the Wine dataset\n",
    "2. Do basic data discovery/EDA\n",
    "3. Visualize the data with **PCA**\n",
    "4. Train and evaluate a **Decision Tree** classifier\n",
    "5. Read a **confusion matrix**\n",
    "\n",
    "> Tip: Run cells in order. If you get stuck, check the handout prompts.\n"
   ]
  },
  {
   "cell_type": "code",
   "execution_count": null,
   "id": "15f5914c",
   "metadata": {},
   "outputs": [],
   "source": [
    "# ✅ Imports (provided)\n",
    "import pandas as pd\n",
    "import matplotlib.pyplot as plt\n",
    "from sklearn.datasets import load_wine\n",
    "from sklearn.model_selection import train_test_split\n",
    "from sklearn.metrics import classification_report, confusion_matrix, ConfusionMatrixDisplay\n",
    "from sklearn.tree import DecisionTreeClassifier\n",
    "from sklearn.decomposition import PCA\n",
    "\n",
    "plt.rcParams['figure.figsize'] = (6, 4)\n"
   ]
  },
  {
   "cell_type": "markdown",
   "id": "d4e38871",
   "metadata": {},
   "source": [
    "## 📥 Load the dataset\n",
    "Fill in the blanks to load the dataset and build a DataFrame."
   ]
  },
  {
   "cell_type": "code",
   "execution_count": null,
   "id": "168ab447",
   "metadata": {},
   "outputs": [],
   "source": [
    "### TODO: Load the wine dataset and create df with a 'target' column\n",
    "# Hints:\n",
    "#   wine = load_wine()\n",
    "#   df = pd.DataFrame(wine.data, columns=wine.feature_names)\n",
    "#   df['target'] = wine.target\n",
    "\n",
    "wine = ___\n",
    "df = pd.DataFrame(___, columns=___)\n",
    "df['target'] = ___\n",
    "\n",
    "df.head()\n"
   ]
  },
  {
   "cell_type": "markdown",
   "id": "57982c57",
   "metadata": {},
   "source": [
    "## 🔍 Data Exploration (EDA)\n",
    "Complete the tasks: show shape, describe, and histograms."
   ]
  },
  {
   "cell_type": "code",
   "execution_count": null,
   "id": "adc0273b",
   "metadata": {},
   "outputs": [],
   "source": [
    "### TODO: Basic summary info\n",
    "print(\"Shape:\", ___)        # e.g., df.shape\n",
    "___                        # e.g., df.describe()\n",
    "\n",
    "ax = df.hist(figsize=(10, 8))\n",
    "plt.tight_layout()\n",
    "plt.show()\n"
   ]
  },
  {
   "cell_type": "markdown",
   "id": "f388aa05",
   "metadata": {},
   "source": [
    "## 🍇 The Three Wine Cultivars (Target Classes)\n",
    "\n",
    "The Wine dataset contains chemical analyses of wines from the same region in Italy, but from **three different grape varieties (cultivars)**.  \n",
    "In scikit‑learn these are labeled `0`, `1`, and `2`.\n",
    "\n",
    "- **Class 0 → Nebbiolo** — bold, high tannin & acidity, ages well; often higher **alcohol** and **malic acid**.\n",
    "- **Class 1 → Barbera** — approachable, fruit‑forward, lighter tannins, higher acidity; often higher **flavanoids** and **color intensity**.\n",
    "- **Class 2 → Grignolino** — light, pale color, lower alcohol & tannins; often higher **proline** and distinct phenol profiles.\n"
   ]
  },
  {
   "cell_type": "markdown",
   "id": "13c7262c",
   "metadata": {},
   "source": [
    "## 🔍 PCA (Principal Component Analysis)\n",
    "\n",
    "We have 13 features. **PCA** finds new axes (*principal components*) that capture the most variance and lets us project the data to **2D** for visualization.\n",
    "\n",
    "**Your task:** reduce the dataset to 2 components and plot them colored by class.\n"
   ]
  },
  {
   "cell_type": "code",
   "execution_count": null,
   "id": "1c3f97f9",
   "metadata": {},
   "outputs": [],
   "source": [
    "### TODO: PCA to 2 components and scatter plot colored by target\n",
    "# Hints:\n",
    "#   X = df.drop('target', axis=1)\n",
    "#   pca = PCA(n_components=2)\n",
    "#   components = pca.fit_transform(X)\n",
    "\n",
    "X = ___\n",
    "pca = PCA(n_components=___)\n",
    "components = pca.fit_transform(___)\n",
    "\n",
    "plt.scatter(components[:, 0], components[:, 1], c=df['target'])\n",
    "plt.xlabel(\"PC1\")\n",
    "plt.ylabel(\"PC2\")\n",
    "plt.title(\"Wine Data PCA (2D)\")\n",
    "plt.show()\n"
   ]
  },
  {
   "cell_type": "markdown",
   "id": "7922dd5c",
   "metadata": {},
   "source": [
    "## 🌳 Decision Tree Classifier & Metrics\n",
    "\n",
    "A **Decision Tree** predicts by asking if/else questions on features and splitting data to increase purity.\n",
    "- Common criteria: **Gini** (default), **Entropy**\n",
    "- Key hyperparameters: `max_depth`, `min_samples_split`, `min_samples_leaf`, `max_features`\n",
    "\n",
    "### Evaluation metrics (per class unless noted)\n",
    "- **Precision = TP / (TP + FP)** — of predicted positives, how many were correct?\n",
    "- **Recall = TP / (TP + FN)** — of true positives, how many did we find?\n",
    "- **F1 = 2·(P·R)/(P+R)** — balance of precision & recall\n",
    "- **Support** — number of true instances of the class\n",
    "- **Accuracy** (overall) — fraction of all predictions that are correct\n"
   ]
  },
  {
   "cell_type": "code",
   "execution_count": null,
   "id": "00381773",
   "metadata": {},
   "outputs": [],
   "source": [
    "### TODO: Train/test split\n",
    "# Hints:\n",
    "#   from sklearn.model_selection import train_test_split\n",
    "#   test_size=0.3, random_state=42\n",
    "\n",
    "X = df.drop('target', axis=1)\n",
    "y = df['target']\n",
    "\n",
    "X_train, X_test, y_train, y_test = train_test_split(\n",
    "    X, y, test_size=___, random_state=___\n",
    ")\n"
   ]
  },
  {
   "cell_type": "code",
   "execution_count": null,
   "id": "9e3fe3c3",
   "metadata": {},
   "outputs": [],
   "source": [
    "### TODO: Train a Decision Tree\n",
    "# Hint: start with max_depth=3\n",
    "\n",
    "dt = DecisionTreeClassifier(max_depth=___, random_state=42)\n",
    "___   # fit the model on X_train, y_train\n"
   ]
  },
  {
   "cell_type": "code",
   "execution_count": null,
   "id": "26a73925",
   "metadata": {},
   "outputs": [],
   "source": [
    "### TODO: Predict and print classification report\n",
    "y_pred = ___\n",
    "print(classification_report(___, ___))\n"
   ]
  },
  {
   "cell_type": "markdown",
   "id": "67f1390a",
   "metadata": {},
   "source": [
    "## 📊 Confusion Matrix\n",
    "\n",
    "- **Rows**: true classes, **Columns**: predicted classes  \n",
    "- Diagonal = correct predictions; off‑diagonal = misclassifications.  \n",
    "Use this to see **which classes** are confused.\n"
   ]
  },
  {
   "cell_type": "code",
   "execution_count": null,
   "id": "c418b50e",
   "metadata": {},
   "outputs": [],
   "source": [
    "### TODO: Plot the confusion matrix\n",
    "cm = confusion_matrix(___, ___)\n",
    "disp = ConfusionMatrixDisplay(confusion_matrix=cm, display_labels=___)  # e.g., dt.classes_\n",
    "disp.plot(cmap='Blues', values_format='d')\n",
    "plt.title(\"Decision Tree - Confusion Matrix\")\n",
    "plt.show()\n"
   ]
  },
  {
   "cell_type": "markdown",
   "id": "29ea0b6f",
   "metadata": {},
   "source": [
    "### 🧪 Optional Extension\n",
    "- Increase `max_depth` and compare scores.\n",
    "- Try a different criterion (`criterion='entropy'`)."
   ]
  }
 ],
 "metadata": {},
 "nbformat": 4,
 "nbformat_minor": 5
}
